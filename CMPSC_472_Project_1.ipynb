{
  "nbformat": 4,
  "nbformat_minor": 0,
  "metadata": {
    "colab": {
      "provenance": [],
      "authorship_tag": "ABX9TyPzRwiwkoWYoWloAwHFL1rS",
      "include_colab_link": true
    },
    "kernelspec": {
      "name": "python3",
      "display_name": "Python 3"
    },
    "language_info": {
      "name": "python"
    }
  },
  "cells": [
    {
      "cell_type": "markdown",
      "metadata": {
        "id": "view-in-github",
        "colab_type": "text"
      },
      "source": [
        "<a href=\"https://colab.research.google.com/github/Chazdj0510/CMPSC-472-Project-1-/blob/main/CMPSC_472_Project_1.ipynb\" target=\"_parent\"><img src=\"https://colab.research.google.com/assets/colab-badge.svg\" alt=\"Open In Colab\"/></a>"
      ]
    },
    {
      "cell_type": "code",
      "execution_count": null,
      "metadata": {
        "colab": {
          "base_uri": "https://localhost:8080/"
        },
        "id": "tZgJY6o3na8v",
        "outputId": "cf67f7ac-eaf6-468d-9cb4-2e3edbbc8626"
      },
      "outputs": [
        {
          "output_type": "stream",
          "name": "stdout",
          "text": [
            "Reading package lists... Done\n",
            "Building dependency tree... Done\n",
            "Reading state information... Done\n",
            "gcc is already the newest version (4:11.2.0-1ubuntu1).\n",
            "0 upgraded, 0 newly installed, 0 to remove and 49 not upgraded.\n"
          ]
        }
      ],
      "source": [
        "!apt-get install gcc"
      ]
    },
    {
      "cell_type": "markdown",
      "source": [
        "# File Processing System Setup\n",
        "The system will accept a directory containing multiple large text files and count the frequency of a specific word in each file.\n"
      ],
      "metadata": {
        "id": "1BVmI8q0peSa"
      }
    },
    {
      "cell_type": "code",
      "source": [
        "%%writefile file_processing_system.c\n",
        "#include <stdio.h>\n",
        "#include <stdlib.h>\n",
        "#include <pthread.h>\n",
        "#include <unistd.h>\n",
        "#include <sys/types.h>\n",
        "#include <sys/wait.h>\n",
        "\n",
        "#define NUM_THREADS 4\n",
        "\n",
        "void* count_words(void* arg) {\n",
        "    // Thread function to count words in a part of the file\n",
        "    printf(\"Thread %ld is processing a portion of the file.\\n\", pthread_self());\n",
        "    pthread_exit(NULL);\n",
        "}\n",
        "\n",
        "int main() {\n",
        "    printf(\"Starting file processing system...\\n\");\n",
        "    return 0;\n",
        "}\n"
      ],
      "metadata": {
        "colab": {
          "base_uri": "https://localhost:8080/"
        },
        "id": "So6FshC1prUN",
        "outputId": "b314afa0-6dbb-4104-9e72-24bc851d9b01"
      },
      "execution_count": null,
      "outputs": [
        {
          "output_type": "stream",
          "name": "stdout",
          "text": [
            "Overwriting file_processing_system.c\n"
          ]
        }
      ]
    },
    {
      "cell_type": "code",
      "source": [
        "# Compile and run the C program\n",
        "!gcc -o file_processing_system file_processing_system.c -lpthread\n",
        "!./file_processing_system\n"
      ],
      "metadata": {
        "colab": {
          "base_uri": "https://localhost:8080/"
        },
        "id": "yJaPRs8Spu0T",
        "outputId": "e5c18d53-da3c-46de-a886-704984d97b2d"
      },
      "execution_count": null,
      "outputs": [
        {
          "output_type": "stream",
          "name": "stdout",
          "text": [
            "Starting file processing system...\n"
          ]
        }
      ]
    },
    {
      "cell_type": "markdown",
      "source": [
        "# Multiprocessing Implementation\n",
        "### Multiprocessing with `fork()`\n",
        "Each file will be processed in a separate process using `fork()`. This allows us to parallelize the file processing.\n"
      ],
      "metadata": {
        "id": "oIIR1hEUoU_1"
      }
    },
    {
      "cell_type": "code",
      "source": [
        "%%writefile file_processing_system.c\n",
        "#include <stdio.h>\n",
        "#include <stdlib.h>\n",
        "#include <pthread.h>\n",
        "#include <unistd.h>\n",
        "#include <sys/types.h>\n",
        "#include <sys/wait.h>\n",
        "\n",
        "#define NUM_THREADS 4\n",
        "\n",
        "void* count_words(void* arg) {\n",
        "    printf(\"Thread %ld is processing a portion of the file.\\n\", pthread_self());\n",
        "    pthread_exit(NULL);\n",
        "}\n",
        "\n",
        "int main() {\n",
        "    pid_t pid;\n",
        "\n",
        "    // Forking a process for multiprocessing\n",
        "    pid = fork();\n",
        "    if (pid == 0) {\n",
        "        // Child process\n",
        "        printf(\"Child process created (PID: %d).\\n\", getpid());\n",
        "    } else if (pid > 0) {\n",
        "        // Parent process\n",
        "        wait(NULL);\n",
        "        printf(\"Parent process (PID: %d) waiting for child to finish.\\n\", getpid());\n",
        "    } else {\n",
        "        // Fork failed\n",
        "        printf(\"Fork failed.\\n\");\n",
        "    }\n",
        "\n",
        "    return 0;\n",
        "}\n"
      ],
      "metadata": {
        "colab": {
          "base_uri": "https://localhost:8080/"
        },
        "id": "71EZGrr-oDpd",
        "outputId": "ff483f6e-83d3-4fb1-dc77-4d5d75f444c7"
      },
      "execution_count": null,
      "outputs": [
        {
          "output_type": "stream",
          "name": "stdout",
          "text": [
            "Overwriting file_processing_system.c\n"
          ]
        }
      ]
    },
    {
      "cell_type": "code",
      "source": [
        "# Compile and run the program\n",
        "!gcc -o file_processing_system file_processing_system.c -lpthread\n",
        "!./file_processing_system\n"
      ],
      "metadata": {
        "colab": {
          "base_uri": "https://localhost:8080/"
        },
        "id": "y63kVTn8qAD7",
        "outputId": "8f69373d-cc70-438d-b135-1ca72d1856a7"
      },
      "execution_count": null,
      "outputs": [
        {
          "output_type": "stream",
          "name": "stdout",
          "text": [
            "Child process created (PID: 3113).\n",
            "Parent process (PID: 3112) waiting for child to finish.\n"
          ]
        }
      ]
    },
    {
      "cell_type": "markdown",
      "source": [
        "# Multithreading Implementation\n",
        "### Multithreading within each process\n",
        "Each process will create multiple threads to divide the file into parts for parallel word counting.\n"
      ],
      "metadata": {
        "id": "jb1UMcodoaj0"
      }
    },
    {
      "cell_type": "code",
      "source": [
        "%%writefile file_processing_system.c\n",
        "#include <stdio.h>\n",
        "#include <stdlib.h>\n",
        "#include <pthread.h>\n",
        "#include <unistd.h>\n",
        "#include <sys/types.h>\n",
        "#include <sys/wait.h>\n",
        "\n",
        "#define NUM_THREADS 4\n",
        "\n",
        "void* count_words(void* arg) {\n",
        "    printf(\"Thread %ld is processing a portion of the file.\\n\", pthread_self());\n",
        "    pthread_exit(NULL);\n",
        "}\n",
        "\n",
        "int main() {\n",
        "    pid_t pid;\n",
        "    pthread_t threads[NUM_THREADS];\n",
        "\n",
        "    // Forking a process for multiprocessing\n",
        "    pid = fork();\n",
        "    if (pid == 0) {\n",
        "        // Child process\n",
        "        printf(\"Child process created (PID: %d).\\n\", getpid());\n",
        "\n",
        "        // Multithreading within the child process\n",
        "        for (int i = 0; i < NUM_THREADS; i++) {\n",
        "            pthread_create(&threads[i], NULL, count_words, NULL);\n",
        "        }\n",
        "\n",
        "        // Wait for threads to complete\n",
        "        for (int i = 0; i < NUM_THREADS; i++) {\n",
        "            pthread_join(threads[i], NULL);\n",
        "        }\n",
        "\n",
        "        exit(0);\n",
        "    } else if (pid > 0) {\n",
        "        // Parent process\n",
        "        wait(NULL);\n",
        "        printf(\"Parent process (PID: %d) waiting for child to finish.\\n\", getpid());\n",
        "    } else {\n",
        "        // Fork failed\n",
        "        printf(\"Fork failed.\\n\");\n",
        "    }\n",
        "\n",
        "    return 0;\n",
        "}"
      ],
      "metadata": {
        "colab": {
          "base_uri": "https://localhost:8080/"
        },
        "id": "X3L5fML2oe8X",
        "outputId": "adb1d9da-57b0-46ae-e9f3-9d4fc9f8c70a"
      },
      "execution_count": null,
      "outputs": [
        {
          "output_type": "stream",
          "name": "stdout",
          "text": [
            "Overwriting file_processing_system.c\n"
          ]
        }
      ]
    },
    {
      "cell_type": "code",
      "source": [
        "# Compile and run the program\n",
        "!gcc -o file_processing_system file_processing_system.c -lpthread\n",
        "!./file_processing_system"
      ],
      "metadata": {
        "colab": {
          "base_uri": "https://localhost:8080/"
        },
        "id": "8OkCmT94qICq",
        "outputId": "988d9067-370d-4810-dd27-616bf23e0a87"
      },
      "execution_count": null,
      "outputs": [
        {
          "output_type": "stream",
          "name": "stdout",
          "text": [
            "Child process created (PID: 4295).\n",
            "Thread 140218241525312 is processing a portion of the file.\n",
            "Thread 140218233132608 is processing a portion of the file.\n",
            "Thread 140218224739904 is processing a portion of the file.\n",
            "Thread 140218216347200 is processing a portion of the file.\n",
            "Parent process (PID: 4294) waiting for child to finish.\n"
          ]
        }
      ]
    },
    {
      "cell_type": "markdown",
      "source": [
        "# IPC Mechanism\n",
        "### Inter-Process Communication (IPC)\n",
        "The child processes will communicate their word count results to the parent process using IPC mechanisms like pipes or message queues.\n"
      ],
      "metadata": {
        "id": "U2oifJK9qP2D"
      }
    },
    {
      "cell_type": "code",
      "source": [
        "%%writefile file_processing_system.c\n",
        "#include <stdio.h>\n",
        "#include <stdlib.h>\n",
        "#include <pthread.h>\n",
        "#include <unistd.h>\n",
        "#include <sys/types.h>\n",
        "#include <sys/wait.h>\n",
        "\n",
        "#define NUM_THREADS 4\n",
        "#define BUFFER_SIZE 1024\n",
        "\n",
        "void* count_words(void* arg) {\n",
        "    printf(\"Thread %ld is processing a portion of the file.\\n\", pthread_self());\n",
        "    pthread_exit(NULL);\n",
        "}\n",
        "\n",
        "int main() {\n",
        "    int pipe_fd[2];\n",
        "    pipe(pipe_fd);\n",
        "\n",
        "    pid_t pid;\n",
        "    pthread_t threads[NUM_THREADS];\n",
        "\n",
        "    // Forking a process for multiprocessing\n",
        "    pid = fork();\n",
        "    if (pid == 0) {\n",
        "        // Child process\n",
        "        close(pipe_fd[0]); // Close reading end of pipe\n",
        "        printf(\"Child process created (PID: %d).\\n\", getpid());\n",
        "\n",
        "        // Multithreading within the child process\n",
        "        for (int i = 0; i < NUM_THREADS; i++) {\n",
        "            pthread_create(&threads[i], NULL, count_words, NULL);\n",
        "        }\n",
        "\n",
        "        // Wait for threads to complete\n",
        "        for (int i = 0; i < NUM_THREADS; i++) {\n",
        "            pthread_join(threads[i], NULL);\n",
        "        }\n",
        "\n",
        "        // Send message to parent process\n",
        "        char message[BUFFER_SIZE] = \"Word count completed!\";\n",
        "        write(pipe_fd[1], message, sizeof(message));\n",
        "        close(pipe_fd[1]);\n",
        "        exit(0);\n",
        "    } else if (pid > 0) {\n",
        "        // Parent process\n",
        "        close(pipe_fd[1]); // Close writing end of pipe\n",
        "        wait(NULL);\n",
        "\n",
        "        char buffer[BUFFER_SIZE];\n",
        "        read(pipe_fd[0], buffer, sizeof(buffer));\n",
        "        printf(\"Parent process received: %s\\n\", buffer);\n",
        "        close(pipe_fd[0]);\n",
        "    } else {\n",
        "        // Fork failed\n",
        "        printf(\"Fork failed.\\n\");\n",
        "    }\n",
        "\n",
        "    return 0;\n",
        "}"
      ],
      "metadata": {
        "colab": {
          "base_uri": "https://localhost:8080/"
        },
        "id": "3bILVH6Fqsf7",
        "outputId": "567f6514-ccf5-4bfb-e0cc-0d04914e0704"
      },
      "execution_count": null,
      "outputs": [
        {
          "output_type": "stream",
          "name": "stdout",
          "text": [
            "Overwriting file_processing_system.c\n"
          ]
        }
      ]
    },
    {
      "cell_type": "code",
      "source": [
        "# Compile and run the program\n",
        "!gcc -o file_processing_system file_processing_system.c -lpthread\n",
        "!./file_processing_system"
      ],
      "metadata": {
        "colab": {
          "base_uri": "https://localhost:8080/"
        },
        "outputId": "d82961e8-79c0-47be-af24-549aab85cf01",
        "id": "vmTWtyThqwWG"
      },
      "execution_count": null,
      "outputs": [
        {
          "output_type": "stream",
          "name": "stdout",
          "text": [
            "Child process created (PID: 5226).\n",
            "Thread 137096098006592 is processing a portion of the file.\n",
            "Thread 137096089613888 is processing a portion of the file.\n",
            "Thread 137096072697408 is processing a portion of the file.\n",
            "Thread 137096081221184 is processing a portion of the file.\n",
            "Parent process received: Word count completed!\n"
          ]
        }
      ]
    },
    {
      "cell_type": "markdown",
      "source": [
        "# Performance Evaluation\n",
        "We will compare the performance of multiprocessing and multithreading in terms of time taken, CPU usage, and memory usage.\n"
      ],
      "metadata": {
        "id": "kfyqryEeqaez"
      }
    },
    {
      "cell_type": "code",
      "source": [
        "%%writefile file_processing_system.c\n",
        "#include <stdio.h>\n",
        "#include <stdlib.h>\n",
        "#include <pthread.h>\n",
        "#include <unistd.h>\n",
        "#include <sys/types.h>\n",
        "#include <sys/wait.h>\n",
        "#include <time.h>\n",
        "#include <sys/resource.h>\n",
        "\n",
        "#define NUM_THREADS 4\n",
        "\n",
        "void* count_words(void* arg) {\n",
        "    // Simulate word counting\n",
        "    printf(\"Thread %ld is processing a portion of the file.\\n\", pthread_self());\n",
        "    pthread_exit(NULL);\n",
        "}\n",
        "\n",
        "int main() {\n",
        "    clock_t start, end;\n",
        "    double cpu_time_used;\n",
        "    struct rusage usage;\n",
        "\n",
        "    start = clock(); // Start time\n",
        "\n",
        "    pid_t pid;\n",
        "    pthread_t threads[NUM_THREADS];\n",
        "\n",
        "    // Forking a process for multiprocessing\n",
        "    pid = fork();\n",
        "    if (pid == 0) {\n",
        "        // Child process\n",
        "        printf(\"Child process created (PID: %d).\\n\", getpid());\n",
        "\n",
        "        // Multithreading within the child process\n",
        "        for (int i = 0; i < NUM_THREADS; i++) {\n",
        "            pthread_create(&threads[i], NULL, count_words, NULL);\n",
        "        }\n",
        "\n",
        "        // Wait for threads to complete\n",
        "        for (int i = 0; i < NUM_THREADS; i++) {\n",
        "            pthread_join(threads[i], NULL);\n",
        "        }\n",
        "\n",
        "        exit(0);\n",
        "    } else if (pid > 0) {\n",
        "        // Parent process\n",
        "        wait(NULL);\n",
        "\n",
        "        end = clock(); // End time\n",
        "        cpu_time_used = ((double) (end - start)) / CLOCKS_PER_SEC;\n",
        "        printf(\"Time taken: %f seconds\\n\", cpu_time_used);\n",
        "\n",
        "        getrusage(RUSAGE_SELF, &usage);\n",
        "        printf(\"CPU time used: %ld.%06ld seconds\\n\",\n",
        "            usage.ru_utime.tv_sec, usage.ru_utime.tv_usec);\n",
        "        printf(\"System CPU time used: %ld.%06ld seconds\\n\",\n",
        "            usage.ru_stime.tv_sec, usage.ru_stime.tv_usec);\n",
        "        printf(\"Max memory usage: %ld kilobytes\\n\", usage.ru_maxrss);\n",
        "    } else {\n",
        "        printf(\"Fork failed.\\n\");\n",
        "    }\n",
        "\n",
        "    return 0;\n",
        "}\n",
        "\n"
      ],
      "metadata": {
        "colab": {
          "base_uri": "https://localhost:8080/"
        },
        "id": "BbX9L3yPrU_p",
        "outputId": "534964b6-4d72-4216-ddda-80a0613533ee"
      },
      "execution_count": null,
      "outputs": [
        {
          "output_type": "stream",
          "name": "stdout",
          "text": [
            "Overwriting file_processing_system.c\n"
          ]
        }
      ]
    },
    {
      "cell_type": "code",
      "source": [
        "# Compile and run the program\n",
        "!gcc -o file_processing_system file_processing_system.c -lpthread\n",
        "!./file_processing_system"
      ],
      "metadata": {
        "colab": {
          "base_uri": "https://localhost:8080/"
        },
        "outputId": "50a21a9a-cfd6-4099-e70d-0c206fc7bc45",
        "id": "xJWjBKKbrfl_"
      },
      "execution_count": null,
      "outputs": [
        {
          "output_type": "stream",
          "name": "stdout",
          "text": [
            "Child process created (PID: 5725).\n",
            "Thread 136723986560576 is processing a portion of the file.\n",
            "Thread 136723969775168 is processing a portion of the file.\n",
            "Thread 136723978167872 is processing a portion of the file.\n",
            "Thread 136723994953280 is processing a portion of the file.\n",
            "Time taken: 0.000101 seconds\n",
            "CPU time used: 0.000650 seconds\n",
            "System CPU time used: 0.002601 seconds\n",
            "Max memory usage: 127072 kilobytes\n"
          ]
        }
      ]
    },
    {
      "cell_type": "markdown",
      "source": [
        "# Conclusion and Observations\n",
        "In this project, multiprocessing and multithreading were used to parallelize file processing. The IPC mechanism ensured communication between child processes and the parent. Based on the performance metrics, multiprocessing demonstrated better parallelism, while multithreading was more memory-efficient.\n",
        "\n"
      ],
      "metadata": {
        "id": "jX8aec03qjjN"
      }
    }
  ]
}